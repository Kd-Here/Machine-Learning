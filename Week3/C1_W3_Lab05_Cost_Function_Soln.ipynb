{
 "cells": [
  {
   "cell_type": "markdown",
   "metadata": {},
   "source": [
    "# Optional Lab: Cost Function for Logistic Regression\n",
    "\n",
    "## Goals\n",
    "In this lab, you will:\n",
    "- examine the implementation and utilize the cost function for logistic regression."
   ]
  },
  {
   "cell_type": "code",
   "execution_count": 1,
   "metadata": {},
   "outputs": [],
   "source": [
    "import numpy as np\n",
    "%matplotlib widget\n",
    "import matplotlib.pyplot as plt\n",
    "from lab_utils_common import  plot_data, sigmoid, dlc\n",
    "plt.style.use('./deeplearning.mplstyle')"
   ]
  },
  {
   "cell_type": "markdown",
   "metadata": {},
   "source": [
    "## Dataset \n",
    "Let's start with the same dataset as was used in the decision boundary lab."
   ]
  },
  {
   "cell_type": "code",
   "execution_count": 2,
   "metadata": {
    "tags": []
   },
   "outputs": [],
   "source": [
    "X_train = np.array([[0.5, 1.5], [1,1], [1.5, 0.5], [3, 0.5], [2, 2], [1, 2.5]])  #(m,n)\n",
    "y_train = np.array([0, 0, 0, 1, 1, 1])                                           #(m,)"
   ]
  },
  {
   "cell_type": "markdown",
   "metadata": {},
   "source": [
    "We will use a helper function to plot this data. The data points with label $y=1$ are shown as red crosses, while the data points with label $y=0$ are shown as blue circles."
   ]
  },
  {
   "cell_type": "code",
   "execution_count": 3,
   "metadata": {},
   "outputs": [
    {
     "data": {
      "application/vnd.jupyter.widget-view+json": {
       "model_id": "66b40a8f3692499c8e2ff6ce8000d8f0",
       "version_major": 2,
       "version_minor": 0
      },
      "image/png": "[encoded data removed]",
      "text/html": [
       "\n",
       "            <div style=\"display: inline-block;\">\n",
       "                <div class=\"jupyter-widgets widget-label\" style=\"text-align: center;\">\n",
       "                    Figure\n",
       "                </div>\n",
       "                <img src='data:image/png;base64,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' width=400.0/>\n",
       "            </div>\n",
       "        "
      ],
      "text/plain": [
       "Canvas(footer_visible=False, header_visible=False, toolbar=Toolbar(toolitems=[('Home', 'Reset original view', …"
      ]
     },
     "metadata": {},
     "output_type": "display_data"
    }
   ],
   "source": [
    "fig,ax = plt.subplots(1,1,figsize=(4,4))\n",
    "plot_data(X_train, y_train, ax)\n",
    "\n",
    "# Set both axes to be from 0-4\n",
    "ax.axis([0, 4, 0, 3.5])\n",
    "ax.set_ylabel('$x_1$', fontsize=12)\n",
    "ax.set_xlabel('$x_0$', fontsize=12)\n",
    "plt.show()"
   ]
  },
  {
   "cell_type": "markdown",
   "metadata": {},
   "source": [
    "## Cost function\n",
    "\n",
    "In a previous lab, you developed the *logistic loss* function. Recall, loss is defined to apply to one example. Here you combine the losses to form the **cost**, which includes all the examples.\n",
    "\n",
    "\n",
    "Recall that for logistic regression, the cost function is of the form \n",
    "\n",
    "$$ J(\\mathbf{w},b) = \\frac{1}{m} \\sum_{i=0}^{m-1} \\left[ loss(f_{\\mathbf{w},b}(\\mathbf{x}^{(i)}), y^{(i)}) \\right] \\tag{1}$$\n",
    "\n",
    "where\n",
    "* $loss(f_{\\mathbf{w},b}(\\mathbf{x}^{(i)}), y^{(i)})$ is the cost for a single data point, which is:\n",
    "\n",
    "    $$loss(f_{\\mathbf{w},b}(\\mathbf{x}^{(i)}), y^{(i)}) = -y^{(i)} \\log\\left(f_{\\mathbf{w},b}\\left( \\mathbf{x}^{(i)} \\right) \\right) - \\left( 1 - y^{(i)}\\right) \\log \\left( 1 - f_{\\mathbf{w},b}\\left( \\mathbf{x}^{(i)} \\right) \\right) \\tag{2}$$\n",
    "    \n",
    "*  where m is the number of training examples in the data set and:\n",
    "$$\n",
    "\\begin{align}\n",
    "  f_{\\mathbf{w},b}(\\mathbf{x^{(i)}}) &= g(z^{(i)})\\tag{3} \\\\\n",
    "  z^{(i)} &= \\mathbf{w} \\cdot \\mathbf{x}^{(i)}+ b\\tag{4} \\\\\n",
    "  g(z^{(i)}) &= \\frac{1}{1+e^{-z^{(i)}}}\\tag{5} \n",
    "\\end{align}\n",
    "$$\n",
    " "
   ]
  },
  {
   "cell_type": "markdown",
   "metadata": {},
   "source": [
    "<a name='ex-02'></a>\n",
    "#### Code Description\n",
    "\n",
    "The algorithm for `compute_cost_logistic` loops over all the examples calculating the loss for each example and accumulating the total.\n",
    "\n",
    "Note that the variables X and y are not scalar values but matrices of shape ($m, n$) and ($𝑚$,) respectively, where  $𝑛$ is the number of features and $𝑚$ is the number of training examples.\n"
   ]
  },
  {
   "cell_type": "code",
   "execution_count": null,
   "metadata": {},
   "outputs": [],
   "source": [
    "def compute_cost_logistic(X, y, w, b):\n",
    "    \"\"\"\n",
    "    Computes cost\n",
    "\n",
    "    Args:\n",
    "      X (ndarray (m,n)): Data, m examples with n features\n",
    "      y (ndarray (m,)) : target values\n",
    "      w (ndarray (n,)) : model parameters  \n",
    "      b (scalar)       : model parameter\n",
    "      \n",
    "    Returns:\n",
    "      cost (scalar): cost\n",
    "    \"\"\"\n",
    "\n",
    "    m = X.shape[0]\n",
    "    cost = 0.0\n",
    "    for i in range(m):\n",
    "        z_i = np.dot(X[i],w) + b\n",
    "        f_wb_i = sigmoid(z_i)\n",
    "        cost +=  -y[i]*np.log(f_wb_i) - (1-y[i])*np.log(1-f_wb_i)\n",
    "             \n",
    "    cost = cost / m\n",
    "    return cost\n"
   ]
  },
  {
   "cell_type": "markdown",
   "metadata": {},
   "source": [
    "Check the implementation of the cost function using the cell below."
   ]
  },
  {
   "cell_type": "code",
   "execution_count": null,
   "metadata": {},
   "outputs": [],
   "source": [
    "w_tmp = np.array([1,1])\n",
    "b_tmp = -3\n",
    "print(compute_cost_logistic(X_train, y_train, w_tmp, b_tmp))"
   ]
  },
  {
   "cell_type": "markdown",
   "metadata": {},
   "source": [
    "**Expected output**: 0.3668667864055175"
   ]
  },
  {
   "cell_type": "markdown",
   "metadata": {},
   "source": [
    "## Example\n",
    "Now, let's see what the cost function output is for a different value of $w$. \n",
    "\n",
    "* In a previous lab, you plotted the decision boundary for  $b = -3, w_0 = 1, w_1 = 1$. That is, you had `b = -3, w = np.array([1,1])`.\n",
    "\n",
    "* Let's say you want to see if $b = -4, w_0 = 1, w_1 = 1$, or `b = -4, w = np.array([1,1])` provides a better model.\n",
    "\n",
    "Let's first plot the decision boundary for these two different $b$ values to see which one fits the data better.\n",
    "\n",
    "* For $b = -3, w_0 = 1, w_1 = 1$, we'll plot $-3 + x_0+x_1 = 0$ (shown in blue)\n",
    "* For $b = -4, w_0 = 1, w_1 = 1$, we'll plot $-4 + x_0+x_1 = 0$ (shown in magenta)"
   ]
  },
  {
   "cell_type": "code",
   "execution_count": null,
   "metadata": {},
   "outputs": [],
   "source": [
    "import matplotlib.pyplot as plt\n",
    "\n",
    "# Choose values between 0 and 6\n",
    "x0 = np.arange(0,6)\n",
    "\n",
    "# Plot the two decision boundaries\n",
    "x1 = 3 - x0\n",
    "x1_other = 4 - x0\n",
    "\n",
    "fig,ax = plt.subplots(1, 1, figsize=(4,4))\n",
    "# Plot the decision boundary\n",
    "ax.plot(x0,x1, c=dlc[\"dlblue\"], label=\"$b$=-3\")\n",
    "ax.plot(x0,x1_other, c=dlc[\"dlmagenta\"], label=\"$b$=-4\")\n",
    "ax.axis([0, 4, 0, 4])\n",
    "\n",
    "# Plot the original data\n",
    "plot_data(X_train,y_train,ax)\n",
    "ax.axis([0, 4, 0, 4])\n",
    "ax.set_ylabel('$x_1$', fontsize=12)\n",
    "ax.set_xlabel('$x_0$', fontsize=12)\n",
    "plt.legend(loc=\"upper right\")\n",
    "plt.title(\"Decision Boundary\")\n",
    "plt.show()"
   ]
  },
  {
   "cell_type": "markdown",
   "metadata": {},
   "source": [
    "You can see from this plot that `b = -4, w = np.array([1,1])` is a worse model for the training data. Let's see if the cost function implementation reflects this."
   ]
  },
  {
   "cell_type": "code",
   "execution_count": null,
   "metadata": {},
   "outputs": [],
   "source": [
    "w_array1 = np.array([1,1])\n",
    "b_1 = -3\n",
    "w_array2 = np.array([1,1])\n",
    "b_2 = -4\n",
    "\n",
    "print(\"Cost for b = -3 : \", compute_cost_logistic(X_train, y_train, w_array1, b_1))\n",
    "print(\"Cost for b = -4 : \", compute_cost_logistic(X_train, y_train, w_array2, b_2))"
   ]
  },
  {
   "cell_type": "markdown",
   "metadata": {},
   "source": [
    "**Expected output**\n",
    "\n",
    "Cost for b = -3 :  0.3668667864055175\n",
    "\n",
    "Cost for b = -4 :  0.5036808636748461\n",
    "\n",
    "\n",
    "You can see the cost function behaves as expected and the cost for `b = -4, w = np.array([1,1])` is indeed higher than the cost for `b = -3, w = np.array([1,1])`"
   ]
  },
  {
   "cell_type": "markdown",
   "metadata": {},
   "source": [
    "## Congratulations!\n",
    "In this lab you examined and utilized the cost function for logistic regression."
   ]
  },
  {
   "cell_type": "code",
   "execution_count": null,
   "metadata": {},
   "outputs": [],
   "source": []
  }
 ],
 "metadata": {
  "kernelspec": {
   "display_name": "Python 3.10.6 64-bit",
   "language": "python",
   "name": "python3"
  },
  "language_info": {
   "codemirror_mode": {
    "name": "ipython",
    "version": 3
   },
   "file_extension": ".py",
   "mimetype": "text/x-python",
   "name": "python",
   "nbconvert_exporter": "python",
   "pygments_lexer": "ipython3",
   "version": "3.10.6"
  },
  "vscode": {
   "interpreter": {
    "hash": "2d3283b7ede15a3ba02d29b57611833951a6474bfc2330b92af0513ee46fd488"
   }
  }
 },
 "nbformat": 4,
 "nbformat_minor": 5
}
